{
 "cells": [
  {
   "cell_type": "code",
   "execution_count": 1,
   "id": "60472b47-d6d5-4982-8cd9-bb97f22ad906",
   "metadata": {},
   "outputs": [],
   "source": [
    "import sys\n",
    "sys.path.insert(0, './src')\n",
    "\n",
    "import random\n",
    "\n",
    "import numpy\n",
    "import torch\n",
    "import torch.nn as nn\n",
    "\n",
    "import matplotlib.pyplot as plt\n",
    "\n",
    "from config import Config\n",
    "from data import *\n",
    "from models import *\n",
    "from train import *\n",
    "from run import setup_seed"
   ]
  },
  {
   "cell_type": "code",
   "execution_count": 2,
   "id": "ab90b2ad-a3fc-4924-9f9d-e52ba835dea3",
   "metadata": {},
   "outputs": [],
   "source": [
    "setup_seed(12)"
   ]
  },
  {
   "cell_type": "code",
   "execution_count": 3,
   "id": "93aa1a7f-9a19-41db-87bd-6af4f8853697",
   "metadata": {},
   "outputs": [],
   "source": [
    "DATA_PATH = \"./data/PSI_Biology_solubility_trainset.csv\"\n",
    "SAVE_MODEL_DIR = \"./models/\"\n",
    "SAVE_MODEL_PREFIX = \"cnn_\"\n",
    "LOAD_MODEL_PATH = None  # E.g. \"./models/cnn_1\""
   ]
  },
  {
   "cell_type": "code",
   "execution_count": 4,
   "id": "d50c6251-eb22-41da-993b-e2de18b4a98e",
   "metadata": {},
   "outputs": [],
   "source": [
    "config = Config.params\n",
    "\n",
    "model_conf = {\n",
    "        \"embed\": [20, 2],\n",
    "        \"cnn\": [\n",
    "            # in_channels, out_channels, kernel_size, dropout_p\n",
    "            [2, 2, 3, 0.2],\n",
    "            [2, 2, 3, 0.2],\n",
    "        ],\n",
    "        \"linear\": [\n",
    "            # in_features, #out_features, dropout_p\n",
    "            [config[\"max_chain_length\"] * 2, config[\"max_chain_length\"], 0.2],\n",
    "        ],\n",
    "    }"
   ]
  },
  {
   "cell_type": "code",
   "execution_count": 5,
   "id": "209fed9c-05ed-4fd6-8d98-e0f05548b9d0",
   "metadata": {},
   "outputs": [],
   "source": [
    "device = torch.device(\"cuda\" if torch.cuda.is_available() else \"cpu\")"
   ]
  },
  {
   "cell_type": "code",
   "execution_count": 6,
   "id": "c03d47e4-d93b-4be9-be28-54c020d1acb6",
   "metadata": {},
   "outputs": [],
   "source": [
    "data = init_data(DATA_PATH, device, config[\"max_chain_length\"])"
   ]
  },
  {
   "cell_type": "code",
   "execution_count": 7,
   "id": "17ad01ab-ef47-4e9e-afc5-f4a0822f7816",
   "metadata": {},
   "outputs": [
    {
     "data": {
      "text/plain": [
       "Model3(\n",
       "  (embed): EmbedLayer(\n",
       "    (linear): Linear(in_features=20, out_features=2, bias=True)\n",
       "  )\n",
       "  (cnn): Sequential(\n",
       "    (0): ConvBlock(\n",
       "      (conv): Conv1d(2, 2, kernel_size=(3,), stride=(1,), padding=same)\n",
       "      (bn): BatchNorm1d(2, eps=1e-05, momentum=0.1, affine=True, track_running_stats=True)\n",
       "      (dropout): Dropout(p=0.2, inplace=False)\n",
       "      (silu): SiLU()\n",
       "    )\n",
       "    (1): ConvBlock(\n",
       "      (conv): Conv1d(2, 2, kernel_size=(3,), stride=(1,), padding=same)\n",
       "      (bn): BatchNorm1d(2, eps=1e-05, momentum=0.1, affine=True, track_running_stats=True)\n",
       "      (dropout): Dropout(p=0.2, inplace=False)\n",
       "      (silu): SiLU()\n",
       "    )\n",
       "  )\n",
       "  (flatten): Flatten(start_dim=1, end_dim=-1)\n",
       "  (nn): Sequential(\n",
       "    (0): LinearBlock(\n",
       "      (linear): Linear(in_features=1572, out_features=786, bias=True)\n",
       "      (bn): BatchNorm1d(786, eps=1e-05, momentum=0.1, affine=True, track_running_stats=True)\n",
       "      (dropout): Dropout(p=0.2, inplace=False)\n",
       "      (silu): SiLU()\n",
       "    )\n",
       "  )\n",
       "  (fc): Linear(in_features=786, out_features=1, bias=True)\n",
       ")"
      ]
     },
     "execution_count": 7,
     "metadata": {},
     "output_type": "execute_result"
    }
   ],
   "source": [
    "model = Model3(model_conf)\n",
    "model.to(device)"
   ]
  },
  {
   "cell_type": "code",
   "execution_count": 8,
   "id": "f9639fbc-af7a-4460-be08-ffe94497d3fd",
   "metadata": {},
   "outputs": [],
   "source": [
    "# Load pretrained weights\n",
    "if LOAD_MODEL_PATH != None:\n",
    "    model.load_state_dict(torch.load(LOAD_MODEL_PATH))"
   ]
  },
  {
   "cell_type": "code",
   "execution_count": 9,
   "id": "99dac719-72c6-4cd3-9e81-c0146280d19e",
   "metadata": {},
   "outputs": [],
   "source": [
    "optimiser = torch.optim.AdamW(\n",
    "    model.parameters(),\n",
    "    lr=config[\"learning_rate\"],\n",
    "    weight_decay=config[\"weight_decay\"],\n",
    ")"
   ]
  },
  {
   "cell_type": "code",
   "execution_count": 10,
   "id": "11093e15-1ce4-4b3d-aa95-7525c9dea445",
   "metadata": {},
   "outputs": [],
   "source": [
    "criterion = nn.BCEWithLogitsLoss(pos_weight=data[\"neg_pos_ratio\"]).to(device)"
   ]
  },
  {
   "cell_type": "code",
   "execution_count": 11,
   "id": "7c2c8893-e365-4e04-b0ad-a6461dce49c8",
   "metadata": {},
   "outputs": [
    {
     "name": "stdout",
     "output_type": "stream",
     "text": [
      "==========================================\n",
      "Epoch 10 - Train loss: 0.326; Test loss: 0.461\n",
      "Accuracy: 0.648\n",
      "Precision: 0.694\n",
      "Recall: 0.762\n",
      "Pred. STD: 0.245\n",
      "F1: 0.719\n",
      "ROC AUC: 0.676\n",
      "==========================================\n",
      "Epoch 20 - Train loss: 0.235; Test loss: 0.673\n",
      "Accuracy: 0.676\n",
      "Precision: 0.849\n",
      "Recall: 0.709\n",
      "Pred. STD: 0.274\n",
      "F1: 0.780\n",
      "ROC AUC: 0.675\n",
      "==========================================\n",
      "Epoch 30 - Train loss: 0.125; Test loss: 0.668\n",
      "Accuracy: 0.662\n",
      "Precision: 0.759\n",
      "Recall: 0.738\n",
      "Pred. STD: 0.327\n",
      "F1: 0.748\n",
      "ROC AUC: 0.661\n",
      "==========================================\n",
      "Epoch 40 - Train loss: 0.094; Test loss: 0.718\n",
      "Accuracy: 0.647\n",
      "Precision: 0.757\n",
      "Recall: 0.730\n",
      "Pred. STD: 0.330\n",
      "F1: 0.735\n",
      "ROC AUC: 0.645\n",
      "==========================================\n",
      "Epoch 50 - Train loss: 0.494; Test loss: 1.734\n",
      "Accuracy: 0.683\n",
      "Precision: 0.934\n",
      "Recall: 0.685\n",
      "Pred. STD: 0.214\n",
      "F1: 0.801\n",
      "ROC AUC: 0.676\n",
      "==========================================\n",
      "Epoch 60 - Train loss: 0.203; Test loss: 1.273\n",
      "Accuracy: 0.684\n",
      "Precision: 0.883\n",
      "Recall: 0.700\n",
      "Pred. STD: 0.287\n",
      "F1: 0.793\n",
      "ROC AUC: 0.656\n",
      "==========================================\n",
      "Epoch 70 - Train loss: 0.089; Test loss: 1.090\n",
      "Accuracy: 0.667\n",
      "Precision: 0.843\n",
      "Recall: 0.706\n",
      "Pred. STD: 0.323\n",
      "F1: 0.772\n",
      "ROC AUC: 0.626\n",
      "==========================================\n",
      "Epoch 80 - Train loss: 0.083; Test loss: 1.021\n",
      "Accuracy: 0.661\n",
      "Precision: 0.819\n",
      "Recall: 0.712\n",
      "Pred. STD: 0.345\n",
      "F1: 0.761\n",
      "ROC AUC: 0.647\n",
      "==========================================\n",
      "Epoch 90 - Train loss: 0.173; Test loss: 0.949\n",
      "Accuracy: 0.518\n",
      "Precision: 0.521\n",
      "Recall: 0.750\n",
      "Pred. STD: 0.364\n",
      "F1: 0.528\n",
      "ROC AUC: 0.624\n",
      "==========================================\n",
      "Epoch 100 - Train loss: 0.304; Test loss: 1.733\n",
      "Accuracy: 0.683\n",
      "Precision: 0.902\n",
      "Recall: 0.694\n",
      "Pred. STD: 0.277\n",
      "F1: 0.795\n",
      "ROC AUC: 0.649\n"
     ]
    }
   ],
   "source": [
    "# Training\n",
    "for e in range(1, 101):\n",
    "    train_epoch(data, model, optimiser, criterion, config[\"batch_size\"])\n",
    "\n",
    "    # Evaluation\n",
    "    if e % config[\"eval_step\"] == 0:\n",
    "        eval_model(e, data, model, optimiser, criterion)\n",
    "\n",
    "        model.train()\n",
    "        torch.save(model.state_dict(), SAVE_MODEL_DIR + SAVE_MODEL_PREFIX + str(e))"
   ]
  },
  {
   "cell_type": "code",
   "execution_count": 12,
   "id": "e1f10333-1f0e-4c7e-9e5d-f28c86b5cd2e",
   "metadata": {},
   "outputs": [
    {
     "data": {
      "text/plain": [
       "Model3(\n",
       "  (embed): EmbedLayer(\n",
       "    (linear): Linear(in_features=20, out_features=2, bias=True)\n",
       "  )\n",
       "  (cnn): Sequential(\n",
       "    (0): ConvBlock(\n",
       "      (conv): Conv1d(2, 2, kernel_size=(3,), stride=(1,), padding=same)\n",
       "      (bn): BatchNorm1d(2, eps=1e-05, momentum=0.1, affine=True, track_running_stats=True)\n",
       "      (dropout): Dropout(p=0.2, inplace=False)\n",
       "      (silu): SiLU()\n",
       "    )\n",
       "    (1): ConvBlock(\n",
       "      (conv): Conv1d(2, 2, kernel_size=(3,), stride=(1,), padding=same)\n",
       "      (bn): BatchNorm1d(2, eps=1e-05, momentum=0.1, affine=True, track_running_stats=True)\n",
       "      (dropout): Dropout(p=0.2, inplace=False)\n",
       "      (silu): SiLU()\n",
       "    )\n",
       "  )\n",
       "  (flatten): Flatten(start_dim=1, end_dim=-1)\n",
       "  (nn): Sequential(\n",
       "    (0): LinearBlock(\n",
       "      (linear): Linear(in_features=1572, out_features=786, bias=True)\n",
       "      (bn): BatchNorm1d(786, eps=1e-05, momentum=0.1, affine=True, track_running_stats=True)\n",
       "      (dropout): Dropout(p=0.2, inplace=False)\n",
       "      (silu): SiLU()\n",
       "    )\n",
       "  )\n",
       "  (fc): Linear(in_features=786, out_features=1, bias=True)\n",
       ")"
      ]
     },
     "execution_count": 12,
     "metadata": {},
     "output_type": "execute_result"
    }
   ],
   "source": [
    "model.eval()"
   ]
  },
  {
   "cell_type": "code",
   "execution_count": 13,
   "id": "66ca256c-5d50-4b9a-8ca0-89c24692f434",
   "metadata": {},
   "outputs": [],
   "source": [
    "test_in = torch.eye(20).to(device)"
   ]
  },
  {
   "cell_type": "code",
   "execution_count": 14,
   "id": "2c8191b5-2d90-4363-951a-d08e89b82326",
   "metadata": {},
   "outputs": [
    {
     "data": {
      "text/plain": [
       "array([[ 0.18382113,  0.03443246],\n",
       "       [-0.3416912 , -0.45901734],\n",
       "       [ 0.11369545, -0.07964338],\n",
       "       [ 0.28270525,  0.13470906],\n",
       "       [-0.13041915, -0.06921194],\n",
       "       [ 0.0491766 , -0.07865518],\n",
       "       [ 0.01770797, -0.25445247],\n",
       "       [-0.03819498, -0.02200445],\n",
       "       [ 0.29470757,  0.07730439],\n",
       "       [-0.03931428, -0.01526424],\n",
       "       [-0.08606548, -0.13247278],\n",
       "       [ 0.16098498,  0.18817385],\n",
       "       [ 0.09701578, -0.12452238],\n",
       "       [ 0.1280261 , -0.28080624],\n",
       "       [ 0.03851844, -0.17563023],\n",
       "       [-0.07549916, -0.21412133],\n",
       "       [ 0.5126911 , -0.10884296],\n",
       "       [ 0.14292191, -0.10437769],\n",
       "       [-0.06400001, -0.2262978 ],\n",
       "       [-0.09022214,  0.02811728]], dtype=float32)"
      ]
     },
     "execution_count": 14,
     "metadata": {},
     "output_type": "execute_result"
    }
   ],
   "source": [
    "output = model.embed.linear(test_in).cpu().detach().numpy()\n",
    "output"
   ]
  },
  {
   "cell_type": "code",
   "execution_count": 15,
   "id": "aba85142-1569-4f32-9236-64ffaa262a10",
   "metadata": {},
   "outputs": [
    {
     "data": {
      "image/png": "[encoded data removed]",
      "text/plain": [
       "<Figure size 640x480 with 1 Axes>"
      ]
     },
     "metadata": {},
     "output_type": "display_data"
    }
   ],
   "source": [
    "plt.scatter(output[:, 0], output[:, 1], c = range(20))\n",
    "for i in range(20):\n",
    "    plt.annotate(residues[i], (output[i, 0], output[i, 1]))"
   ]
  },
  {
   "cell_type": "code",
   "execution_count": null,
   "id": "717bfb32-1da4-4f7d-a95d-a0322fd41a61",
   "metadata": {},
   "outputs": [],
   "source": []
  }
 ],
 "metadata": {
  "kernelspec": {
   "display_name": "Python 3 (ipykernel)",
   "language": "python",
   "name": "python3"
  },
  "language_info": {
   "codemirror_mode": {
    "name": "ipython",
    "version": 3
   },
   "file_extension": ".py",
   "mimetype": "text/x-python",
   "name": "python",
   "nbconvert_exporter": "python",
   "pygments_lexer": "ipython3",
   "version": "3.10.8"
  }
 },
 "nbformat": 4,
 "nbformat_minor": 5
}
