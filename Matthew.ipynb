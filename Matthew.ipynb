{
 "cells": [
  {
   "cell_type": "code",
   "execution_count": 18,
   "id": "652290ff",
   "metadata": {},
   "outputs": [],
   "source": [
    "import pandas as pd\n",
    "import matplotlib.pyplot as plt"
   ]
  },
  {
   "cell_type": "code",
   "execution_count": 19,
   "id": "8aa0d3a7",
   "metadata": {},
   "outputs": [],
   "source": [
    "df = pd.read_csv(\"data/PSI_Biology_solubility_trainset.csv\")"
   ]
  },
  {
   "cell_type": "code",
   "execution_count": 20,
   "id": "651146d7",
   "metadata": {
    "scrolled": false
   },
   "outputs": [
    {
     "data": {
      "text/html": [
       "<div>\n",
       "<style scoped>\n",
       "    .dataframe tbody tr th:only-of-type {\n",
       "        vertical-align: middle;\n",
       "    }\n",
       "\n",
       "    .dataframe tbody tr th {\n",
       "        vertical-align: top;\n",
       "    }\n",
       "\n",
       "    .dataframe thead th {\n",
       "        text-align: right;\n",
       "    }\n",
       "</style>\n",
       "<table border=\"1\" class=\"dataframe\">\n",
       "  <thead>\n",
       "    <tr style=\"text-align: right;\">\n",
       "      <th></th>\n",
       "      <th>sid</th>\n",
       "      <th>solubility</th>\n",
       "      <th>fasta</th>\n",
       "      <th>Partition</th>\n",
       "    </tr>\n",
       "  </thead>\n",
       "  <tbody>\n",
       "    <tr>\n",
       "      <th>0</th>\n",
       "      <td>AaCD00331182</td>\n",
       "      <td>1</td>\n",
       "      <td>MTYKDGTYSSDGTYTSPNGLETVGVELTLAADKVSAVNITVHPSNP...</td>\n",
       "      <td>0</td>\n",
       "    </tr>\n",
       "    <tr>\n",
       "      <th>1</th>\n",
       "      <td>AaCD00331183</td>\n",
       "      <td>1</td>\n",
       "      <td>MTAMNILVLGSDSRGSSDADVEANTATDQRADTLMLVHVPADRKKT...</td>\n",
       "      <td>1</td>\n",
       "    </tr>\n",
       "    <tr>\n",
       "      <th>2</th>\n",
       "      <td>AaCD00331184</td>\n",
       "      <td>1</td>\n",
       "      <td>MKAEGNTAMNILVLGSDSRGSSDADVEANTATDQRADTLMLVHVPA...</td>\n",
       "      <td>1</td>\n",
       "    </tr>\n",
       "    <tr>\n",
       "      <th>3</th>\n",
       "      <td>AaCD00331185</td>\n",
       "      <td>1</td>\n",
       "      <td>MQSFNSGSTKIHNAFPEESTRPQKAEGNTAMNILVLGSDSRGSSDA...</td>\n",
       "      <td>1</td>\n",
       "    </tr>\n",
       "    <tr>\n",
       "      <th>4</th>\n",
       "      <td>AaCD00331621</td>\n",
       "      <td>1</td>\n",
       "      <td>MNAPVKFEYFKNPKNRELTAVELEAFAKELDQIKQEVLDDIGEKDA...</td>\n",
       "      <td>2</td>\n",
       "    </tr>\n",
       "    <tr>\n",
       "      <th>...</th>\n",
       "      <td>...</td>\n",
       "      <td>...</td>\n",
       "      <td>...</td>\n",
       "      <td>...</td>\n",
       "    </tr>\n",
       "    <tr>\n",
       "      <th>11221</th>\n",
       "      <td>YsCD00591076</td>\n",
       "      <td>1</td>\n",
       "      <td>MEIYVFTPEGRIVELPAGATPVDFAYVVHTDIGHACVGARVDRQPY...</td>\n",
       "      <td>0</td>\n",
       "    </tr>\n",
       "    <tr>\n",
       "      <th>11222</th>\n",
       "      <td>YsCD00591078</td>\n",
       "      <td>1</td>\n",
       "      <td>MEIYVFTPEGRIVELPAGATPVDFAYVVHTDIGHACVGARVDRQPY...</td>\n",
       "      <td>0</td>\n",
       "    </tr>\n",
       "    <tr>\n",
       "      <th>11223</th>\n",
       "      <td>YsCD00591079</td>\n",
       "      <td>1</td>\n",
       "      <td>MDLFPDEIYVFTPEGRIVELPAGATPVDFAYVVHTDIGHACVGARV...</td>\n",
       "      <td>0</td>\n",
       "    </tr>\n",
       "    <tr>\n",
       "      <th>11224</th>\n",
       "      <td>YsCD00665646</td>\n",
       "      <td>1</td>\n",
       "      <td>MVEQEQEAITFEVVAREWHASNRQWSEAHSARVLKSLEDNLFQAIG...</td>\n",
       "      <td>0</td>\n",
       "    </tr>\n",
       "    <tr>\n",
       "      <th>11225</th>\n",
       "      <td>YsCD00665990</td>\n",
       "      <td>0</td>\n",
       "      <td>MELGLRTYSARLLGSNPKLVLHGGGNTSVKLNMNDLFGNPVQVMCI...</td>\n",
       "      <td>3</td>\n",
       "    </tr>\n",
       "  </tbody>\n",
       "</table>\n",
       "<p>11226 rows × 4 columns</p>\n",
       "</div>"
      ],
      "text/plain": [
       "                sid  solubility  \\\n",
       "0      AaCD00331182           1   \n",
       "1      AaCD00331183           1   \n",
       "2      AaCD00331184           1   \n",
       "3      AaCD00331185           1   \n",
       "4      AaCD00331621           1   \n",
       "...             ...         ...   \n",
       "11221  YsCD00591076           1   \n",
       "11222  YsCD00591078           1   \n",
       "11223  YsCD00591079           1   \n",
       "11224  YsCD00665646           1   \n",
       "11225  YsCD00665990           0   \n",
       "\n",
       "                                                   fasta  Partition  \n",
       "0      MTYKDGTYSSDGTYTSPNGLETVGVELTLAADKVSAVNITVHPSNP...          0  \n",
       "1      MTAMNILVLGSDSRGSSDADVEANTATDQRADTLMLVHVPADRKKT...          1  \n",
       "2      MKAEGNTAMNILVLGSDSRGSSDADVEANTATDQRADTLMLVHVPA...          1  \n",
       "3      MQSFNSGSTKIHNAFPEESTRPQKAEGNTAMNILVLGSDSRGSSDA...          1  \n",
       "4      MNAPVKFEYFKNPKNRELTAVELEAFAKELDQIKQEVLDDIGEKDA...          2  \n",
       "...                                                  ...        ...  \n",
       "11221  MEIYVFTPEGRIVELPAGATPVDFAYVVHTDIGHACVGARVDRQPY...          0  \n",
       "11222  MEIYVFTPEGRIVELPAGATPVDFAYVVHTDIGHACVGARVDRQPY...          0  \n",
       "11223  MDLFPDEIYVFTPEGRIVELPAGATPVDFAYVVHTDIGHACVGARV...          0  \n",
       "11224  MVEQEQEAITFEVVAREWHASNRQWSEAHSARVLKSLEDNLFQAIG...          0  \n",
       "11225  MELGLRTYSARLLGSNPKLVLHGGGNTSVKLNMNDLFGNPVQVMCI...          3  \n",
       "\n",
       "[11226 rows x 4 columns]"
      ]
     },
     "execution_count": 20,
     "metadata": {},
     "output_type": "execute_result"
    }
   ],
   "source": [
    "df"
   ]
  },
  {
   "cell_type": "code",
   "execution_count": 23,
   "id": "11f37ed6",
   "metadata": {},
   "outputs": [
    {
     "data": {
      "text/plain": [
       "7500"
      ]
     },
     "execution_count": 23,
     "metadata": {},
     "output_type": "execute_result"
    }
   ],
   "source": [
    "sum(df.solubility == 1)"
   ]
  },
  {
   "cell_type": "code",
   "execution_count": null,
   "id": "8ea01d19",
   "metadata": {},
   "outputs": [],
   "source": []
  }
 ],
 "metadata": {
  "kernelspec": {
   "display_name": "Python 3 (ipykernel)",
   "language": "python",
   "name": "python3"
  },
  "language_info": {
   "codemirror_mode": {
    "name": "ipython",
    "version": 3
   },
   "file_extension": ".py",
   "mimetype": "text/x-python",
   "name": "python",
   "nbconvert_exporter": "python",
   "pygments_lexer": "ipython3",
   "version": "3.10.8"
  }
 },
 "nbformat": 4,
 "nbformat_minor": 5
}
