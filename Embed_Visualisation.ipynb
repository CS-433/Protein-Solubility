{
 "cells": [
  {
   "cell_type": "code",
   "execution_count": 3,
   "id": "60472b47-d6d5-4982-8cd9-bb97f22ad906",
   "metadata": {},
   "outputs": [],
   "source": [
    "import random\n",
    "import sys\n",
    "\n",
    "import matplotlib.pyplot as plt\n",
    "import numpy\n",
    "import torch\n",
    "import torch.nn as nn\n",
    "\n",
    "from config import Config\n",
    "from data import *\n",
    "from models import *\n",
    "from train import *\n",
    "from run import setup_seed\n",
    "\n",
    "sys.path.insert(0, \"./src\")"
   ]
  },
  {
   "cell_type": "code",
   "execution_count": 4,
   "id": "ab90b2ad-a3fc-4924-9f9d-e52ba835dea3",
   "metadata": {},
   "outputs": [],
   "source": [
    "setup_seed(12)"
   ]
  },
  {
   "cell_type": "code",
   "execution_count": 5,
   "id": "93aa1a7f-9a19-41db-87bd-6af4f8853697",
   "metadata": {},
   "outputs": [],
   "source": [
    "DATA_PATH = \"./data/PSI_Biology_solubility_trainset.csv\"\n",
    "SAVE_MODEL_DIR = \"./models/\"\n",
    "SAVE_MODEL_PREFIX = \"cnn_\"\n",
    "LOAD_MODEL_PATH = None  # E.g. \"./models/cnn_1\""
   ]
  },
  {
   "cell_type": "code",
   "execution_count": 6,
   "id": "d50c6251-eb22-41da-993b-e2de18b4a98e",
   "metadata": {},
   "outputs": [],
   "source": [
    "config = Config.params\n",
    "\n",
    "model_conf = {\n",
    "    \"embed\": [20, 2],\n",
    "    \"cnn\": [\n",
    "        # in_channels, out_channels, kernel_size, dropout_p\n",
    "        [2, 2, 3, 0.2],\n",
    "        [2, 2, 3, 0.2],\n",
    "    ],\n",
    "    \"linear\": [\n",
    "        # in_features, #out_features, dropout_p\n",
    "        [config[\"max_chain_length\"] * 2, config[\"max_chain_length\"], 0.2],\n",
    "    ],\n",
    "}"
   ]
  },
  {
   "cell_type": "code",
   "execution_count": 8,
   "id": "209fed9c-05ed-4fd6-8d98-e0f05548b9d0",
   "metadata": {},
   "outputs": [],
   "source": [
    "device = torch.device(\"cuda\" if torch.cuda.is_available() else \"cpu\")"
   ]
  },
  {
   "cell_type": "code",
   "execution_count": 9,
   "id": "c03d47e4-d93b-4be9-be28-54c020d1acb6",
   "metadata": {},
   "outputs": [],
   "source": [
    "data = init_data(DATA_PATH, device, config[\"max_chain_length\"])"
   ]
  },
  {
   "cell_type": "code",
   "execution_count": 10,
   "id": "17ad01ab-ef47-4e9e-afc5-f4a0822f7816",
   "metadata": {},
   "outputs": [
    {
     "data": {
      "text/plain": [
       "Model3(\n",
       "  (embed): EmbedLayer(\n",
       "    (linear): Linear(in_features=20, out_features=2, bias=True)\n",
       "  )\n",
       "  (cnn): Sequential(\n",
       "    (0): ConvBlock(\n",
       "      (conv): Conv1d(2, 2, kernel_size=(3,), stride=(1,), padding=same)\n",
       "      (bn): BatchNorm1d(2, eps=1e-05, momentum=0.1, affine=True, track_running_stats=True)\n",
       "      (dropout): Dropout(p=0.2, inplace=False)\n",
       "      (silu): SiLU()\n",
       "    )\n",
       "    (1): ConvBlock(\n",
       "      (conv): Conv1d(2, 2, kernel_size=(3,), stride=(1,), padding=same)\n",
       "      (bn): BatchNorm1d(2, eps=1e-05, momentum=0.1, affine=True, track_running_stats=True)\n",
       "      (dropout): Dropout(p=0.2, inplace=False)\n",
       "      (silu): SiLU()\n",
       "    )\n",
       "  )\n",
       "  (flatten): Flatten(start_dim=1, end_dim=-1)\n",
       "  (nn): Sequential(\n",
       "    (0): LinearBlock(\n",
       "      (linear): Linear(in_features=1620, out_features=810, bias=True)\n",
       "      (bn): BatchNorm1d(810, eps=1e-05, momentum=0.1, affine=True, track_running_stats=True)\n",
       "      (dropout): Dropout(p=0.2, inplace=False)\n",
       "      (silu): SiLU()\n",
       "    )\n",
       "  )\n",
       "  (fc): Linear(in_features=810, out_features=1, bias=True)\n",
       ")"
      ]
     },
     "execution_count": 10,
     "metadata": {},
     "output_type": "execute_result"
    }
   ],
   "source": [
    "model = Model3(model_conf)\n",
    "model.to(device)"
   ]
  },
  {
   "cell_type": "code",
   "execution_count": 11,
   "id": "f9639fbc-af7a-4460-be08-ffe94497d3fd",
   "metadata": {},
   "outputs": [],
   "source": [
    "# Load pretrained weights\n",
    "if LOAD_MODEL_PATH != None:\n",
    "    model.load_state_dict(torch.load(LOAD_MODEL_PATH))"
   ]
  },
  {
   "cell_type": "code",
   "execution_count": 12,
   "id": "99dac719-72c6-4cd3-9e81-c0146280d19e",
   "metadata": {},
   "outputs": [],
   "source": [
    "optimiser = torch.optim.AdamW(\n",
    "    model.parameters(), lr=config[\"learning_rate\"], weight_decay=config[\"weight_decay\"],\n",
    ")"
   ]
  },
  {
   "cell_type": "code",
   "execution_count": 13,
   "id": "11093e15-1ce4-4b3d-aa95-7525c9dea445",
   "metadata": {},
   "outputs": [],
   "source": [
    "criterion = nn.BCEWithLogitsLoss(pos_weight=data[\"neg_pos_ratio\"]).to(device)"
   ]
  },
  {
   "cell_type": "code",
   "execution_count": 14,
   "id": "7c2c8893-e365-4e04-b0ad-a6461dce49c8",
   "metadata": {},
   "outputs": [
    {
     "name": "stdout",
     "output_type": "stream",
     "text": [
      "==========================================\n",
      "Epoch 10 - Train loss: 0.333; Test loss: 0.464\n",
      "Accuracy: 0.656\n",
      "Precision: 0.742\n",
      "Recall: 0.742\n",
      "Pred. STD: 0.232\n",
      "F1: 0.739\n",
      "ROC AUC: 0.673\n",
      "==========================================\n",
      "Epoch 20 - Train loss: 0.200; Test loss: 0.570\n",
      "Accuracy: 0.652\n",
      "Precision: 0.797\n",
      "Recall: 0.716\n",
      "Pred. STD: 0.279\n",
      "F1: 0.749\n",
      "ROC AUC: 0.651\n",
      "==========================================\n",
      "Epoch 30 - Train loss: 0.208; Test loss: 0.838\n",
      "Accuracy: 0.675\n",
      "Precision: 0.863\n",
      "Recall: 0.703\n",
      "Pred. STD: 0.286\n",
      "F1: 0.781\n",
      "ROC AUC: 0.650\n",
      "==========================================\n",
      "Epoch 40 - Train loss: 0.106; Test loss: 0.745\n",
      "Accuracy: 0.656\n",
      "Precision: 0.757\n",
      "Recall: 0.735\n",
      "Pred. STD: 0.338\n",
      "F1: 0.743\n",
      "ROC AUC: 0.646\n",
      "==========================================\n",
      "Epoch 50 - Train loss: 0.110; Test loss: 0.953\n",
      "Accuracy: 0.671\n",
      "Precision: 0.840\n",
      "Recall: 0.709\n",
      "Pred. STD: 0.319\n",
      "F1: 0.774\n",
      "ROC AUC: 0.641\n",
      "==========================================\n",
      "Epoch 60 - Train loss: 0.149; Test loss: 1.228\n",
      "Accuracy: 0.677\n",
      "Precision: 0.863\n",
      "Recall: 0.704\n",
      "Pred. STD: 0.311\n",
      "F1: 0.784\n",
      "ROC AUC: 0.643\n",
      "==========================================\n",
      "Epoch 70 - Train loss: 0.190; Test loss: 1.535\n",
      "Accuracy: 0.678\n",
      "Precision: 0.907\n",
      "Recall: 0.691\n",
      "Pred. STD: 0.257\n",
      "F1: 0.793\n",
      "ROC AUC: 0.623\n",
      "==========================================\n",
      "Epoch 80 - Train loss: 0.119; Test loss: 1.376\n",
      "Accuracy: 0.676\n",
      "Precision: 0.855\n",
      "Recall: 0.706\n",
      "Pred. STD: 0.318\n",
      "F1: 0.781\n",
      "ROC AUC: 0.631\n",
      "==========================================\n",
      "Epoch 90 - Train loss: 0.212; Test loss: 1.720\n",
      "Accuracy: 0.673\n",
      "Precision: 0.884\n",
      "Recall: 0.696\n",
      "Pred. STD: 0.302\n",
      "F1: 0.784\n",
      "ROC AUC: 0.626\n",
      "==========================================\n",
      "Epoch 100 - Train loss: 0.177; Test loss: 1.653\n",
      "Accuracy: 0.684\n",
      "Precision: 0.900\n",
      "Recall: 0.695\n",
      "Pred. STD: 0.269\n",
      "F1: 0.796\n",
      "ROC AUC: 0.634\n"
     ]
    }
   ],
   "source": [
    "# Training\n",
    "for e in range(1, 101):\n",
    "    train_epoch(data, model, optimiser, criterion, config[\"batch_size\"])\n",
    "\n",
    "    # Evaluation\n",
    "    if e % config[\"eval_step\"] == 0:\n",
    "        eval_model(e, data, model, optimiser, criterion)\n",
    "\n",
    "        model.train()\n",
    "        torch.save(model.state_dict(), SAVE_MODEL_DIR + SAVE_MODEL_PREFIX + str(e))"
   ]
  },
  {
   "cell_type": "code",
   "execution_count": 15,
   "id": "e1f10333-1f0e-4c7e-9e5d-f28c86b5cd2e",
   "metadata": {},
   "outputs": [
    {
     "data": {
      "text/plain": [
       "Model3(\n",
       "  (embed): EmbedLayer(\n",
       "    (linear): Linear(in_features=20, out_features=2, bias=True)\n",
       "  )\n",
       "  (cnn): Sequential(\n",
       "    (0): ConvBlock(\n",
       "      (conv): Conv1d(2, 2, kernel_size=(3,), stride=(1,), padding=same)\n",
       "      (bn): BatchNorm1d(2, eps=1e-05, momentum=0.1, affine=True, track_running_stats=True)\n",
       "      (dropout): Dropout(p=0.2, inplace=False)\n",
       "      (silu): SiLU()\n",
       "    )\n",
       "    (1): ConvBlock(\n",
       "      (conv): Conv1d(2, 2, kernel_size=(3,), stride=(1,), padding=same)\n",
       "      (bn): BatchNorm1d(2, eps=1e-05, momentum=0.1, affine=True, track_running_stats=True)\n",
       "      (dropout): Dropout(p=0.2, inplace=False)\n",
       "      (silu): SiLU()\n",
       "    )\n",
       "  )\n",
       "  (flatten): Flatten(start_dim=1, end_dim=-1)\n",
       "  (nn): Sequential(\n",
       "    (0): LinearBlock(\n",
       "      (linear): Linear(in_features=1620, out_features=810, bias=True)\n",
       "      (bn): BatchNorm1d(810, eps=1e-05, momentum=0.1, affine=True, track_running_stats=True)\n",
       "      (dropout): Dropout(p=0.2, inplace=False)\n",
       "      (silu): SiLU()\n",
       "    )\n",
       "  )\n",
       "  (fc): Linear(in_features=810, out_features=1, bias=True)\n",
       ")"
      ]
     },
     "execution_count": 15,
     "metadata": {},
     "output_type": "execute_result"
    }
   ],
   "source": [
    "model.eval()"
   ]
  },
  {
   "cell_type": "code",
   "execution_count": 16,
   "id": "66ca256c-5d50-4b9a-8ca0-89c24692f434",
   "metadata": {},
   "outputs": [],
   "source": [
    "test_in = torch.eye(20).to(device)"
   ]
  },
  {
   "cell_type": "code",
   "execution_count": 17,
   "id": "2c8191b5-2d90-4363-951a-d08e89b82326",
   "metadata": {},
   "outputs": [
    {
     "data": {
      "text/plain": [
       "array([[ 0.14751872,  0.02105792],\n",
       "       [-0.3666431 , -0.4732764 ],\n",
       "       [ 0.13663512, -0.06950518],\n",
       "       [ 0.24615222,  0.19545817],\n",
       "       [-0.20143075, -0.09249628],\n",
       "       [-0.00457574, -0.08208321],\n",
       "       [ 0.07112665, -0.27200526],\n",
       "       [-0.06244748, -0.05073382],\n",
       "       [ 0.3230949 ,  0.08518378],\n",
       "       [-0.05729573, -0.09372725],\n",
       "       [-0.125236  , -0.2047911 ],\n",
       "       [ 0.10060732,  0.08108701],\n",
       "       [ 0.06368688, -0.14153484],\n",
       "       [ 0.09275451, -0.24217147],\n",
       "       [ 0.06287052, -0.1886381 ],\n",
       "       [-0.13570967, -0.19756563],\n",
       "       [ 0.39019632, -0.11861058],\n",
       "       [ 0.07680587, -0.13817737],\n",
       "       [-0.15417466, -0.22677551],\n",
       "       [-0.14708325, -0.05652157]], dtype=float32)"
      ]
     },
     "execution_count": 17,
     "metadata": {},
     "output_type": "execute_result"
    }
   ],
   "source": [
    "output = model.embed.linear(test_in).cpu().detach().numpy()\n",
    "output"
   ]
  },
  {
   "cell_type": "code",
   "execution_count": 18,
   "id": "aba85142-1569-4f32-9236-64ffaa262a10",
   "metadata": {},
   "outputs": [
    {
     "data": {
      "image/png": "[encoded data removed]",
      "text/plain": [
       "<Figure size 640x480 with 1 Axes>"
      ]
     },
     "metadata": {},
     "output_type": "display_data"
    }
   ],
   "source": [
    "plt.scatter(output[:, 0], output[:, 1], c=range(20))\n",
    "for i in range(20):\n",
    "    plt.annotate(residues[i], (output[i, 0], output[i, 1]))"
   ]
  }
 ],
 "metadata": {
  "kernelspec": {
   "display_name": "Python 3 (ipykernel)",
   "language": "python",
   "name": "python3"
  },
  "language_info": {
   "codemirror_mode": {
    "name": "ipython",
    "version": 3
   },
   "file_extension": ".py",
   "mimetype": "text/x-python",
   "name": "python",
   "nbconvert_exporter": "python",
   "pygments_lexer": "ipython3",
   "version": "3.10.8"
  }
 },
 "nbformat": 4,
 "nbformat_minor": 5
}
